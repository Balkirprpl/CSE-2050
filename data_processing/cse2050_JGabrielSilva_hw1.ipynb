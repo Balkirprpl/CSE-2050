{
 "cells": [
  {
   "cell_type": "markdown",
   "id": "5d882571",
   "metadata": {},
   "source": [
    "# Homework 1"
   ]
  },
  {
   "cell_type": "markdown",
   "id": "a81b7d1d",
   "metadata": {},
   "source": [
    "## Task 1:"
   ]
  },
  {
   "cell_type": "code",
   "execution_count": 281,
   "id": "cf060515",
   "metadata": {},
   "outputs": [
    {
     "name": "stdout",
     "output_type": "stream",
     "text": [
      "Employee            2021 Salary    2022 Salary    % Increase     \n",
      "------------------------------------------------------------\n",
      "Willena Shupe           102,633        105,712          3.0%\n",
      "Jolanda Agin             82,012         86,933          6.0%\n",
      "Leta Stacker            129,860        133,756          3.0%\n",
      "Leonora Oliverio         48,949         54,823         12.0%\n",
      "Birgit Stoudt            55,208         59,625          8.0%\n",
      "Aron Valtierra           95,600        100,380          5.0%\n",
      "Vi Buschman              40,030         43,633          9.0%\n",
      "------------------------------------------------------------\n",
      "Total                   554,292        584,861\n"
     ]
    }
   ],
   "source": [
    "employees = [\"Willena Shupe\", \"Jolanda Agin\", \"Leta Stacker\",\n",
    "\"Leonora Oliverio\", \"Birgit Stoudt\", \"Aron Valtierra\", \"Vi Buschman\"]\n",
    "\n",
    "salaries2021 = [\"$102,633\", \"$82,012\", \"$129,860\",\n",
    "\"$48,949\", \"$55,208\", \"$95,600\", \"$40,030\"]\n",
    "\n",
    "salaries2022 = [\"$105,711.99\", \"$86,932.72\", \"$133,755.80\",\n",
    "\"$54,822.88\", \"$59,624.64\", \"$100,380.00\", \"$43,632.70\"]\n",
    "\n",
    "total2021 = 0.0\n",
    "total2022 = 0.0\n",
    "\n",
    "# start of output\n",
    "\n",
    "print(\"%-20s%-15s%-15s%-15s\" % \n",
    "      (\"Employee\", \"2021 Salary\", \"2022 Salary\", \"% Increase\"))\n",
    "print(\"------------------------------------------------------------\")\n",
    "for i in range(len(employees)):\n",
    "    emp_sal_2021 = float(salaries2021[i].replace(\"$\", \"\").replace(\",\", \"\"))\n",
    "    emp_sal_2022 = float(salaries2022[i].replace(\"$\", \"\").replace(\",\", \"\"))\n",
    "    total2021 += emp_sal_2021\n",
    "    total2022 += emp_sal_2022\n",
    "    increase = emp_sal_2022 - emp_sal_2021\n",
    "    increase_str = \"\"\n",
    "    if (emp_sal_2021 < emp_sal_2022):\n",
    "        increase = (emp_sal_2022 * 100)/emp_sal_2021\n",
    "        increase -= 100\n",
    "        increase_str = increase\n",
    "    else:\n",
    "        increase_str = \"x.x\"\n",
    "    \n",
    "    print(\"%-18s %12s%15.7s%13s\" % (employees[i],\n",
    "                                    \"{:,.0f}\".format(emp_sal_2021),\n",
    "                                    \"{:,.0f}\".format(emp_sal_2022),\n",
    "                                    \"{:,.1f}\".format(increase_str)) + \"%\")\n",
    "    \n",
    "print(\"------------------------------------------------------------\")\n",
    "print(\"%-18s%13s%15s\" % (\"Total\", \"{:,.0f}\".format(total2021),\n",
    "                         \"{:,.0f}\".format(total2022)))"
   ]
  },
  {
   "cell_type": "markdown",
   "id": "ffac49cc",
   "metadata": {},
   "source": [
    "## Task 2:"
   ]
  },
  {
   "cell_type": "code",
   "execution_count": 282,
   "id": "eaca8569",
   "metadata": {},
   "outputs": [
    {
     "name": "stdout",
     "output_type": "stream",
     "text": [
      "Student Name                  Email Address       \n",
      "Willena Shupe                 wwillena2020@my.fit.edu       \n",
      "Jolanda Agin                  jjolanda2019@my.fit.edu       \n",
      "Leta Stacker                  lleta2016@my.fit.edu          \n",
      "Leonora Oliverio              lleonora2019@my.fit.edu       \n",
      "Birgit Stoudt                 bbirgit2013@my.fit.edu        \n",
      "Aron Valtierra                aaron2014@my.fit.edu          \n",
      "Vi Buschman                   vvi2014@my.fit.edu            \n",
      "Janee Barnwell                jjanee2018@my.fit.edu         \n",
      "Agnus Flower                  aagnus2016@my.fit.edu         \n",
      "Byron Mccartney               bbyron2012@my.fit.edu         \n",
      "Victoria Crabill              vvictoria2014@my.fit.edu      \n",
      "Amy Swinton                   aamy2015@my.fit.edu           \n",
      "Arla Mohamed                  aarla2018@my.fit.edu          \n",
      "Bryon Vester                  bbryon2013@my.fit.edu         \n",
      "Lue Benway                    llue2019@my.fit.edu           \n",
      "Mozelle Macauley              mmozelle2017@my.fit.edu       \n",
      "Suzann Galindo                ssuzann2019@my.fit.edu        \n",
      "Delicia Barriere              ddelicia2020@my.fit.edu       \n",
      "Marcella Uyehara              mmarcella2015@my.fit.edu      \n",
      "Jane Curley                   jjane2013@my.fit.edu          \n"
     ]
    }
   ],
   "source": [
    "names = [\"Willena Shupe\", \"Jolanda Agin\", \"Leta Stacker\",\n",
    "\"Leonora Oliverio\", \"Birgit Stoudt\", \"Aron Valtierra\", \"Vi Buschman\",\n",
    "\"Janee Barnwell\", \"Agnus Flower\", \"Byron Mccartney\",\n",
    "\"Victoria Crabill\", \"Amy Swinton\", \"Arla Mohamed\", \"Bryon Vester\",\n",
    "\"Lue Benway\", \"Mozelle Macauley\", \"Suzann Galindo\",\n",
    "\"Delicia Barriere\", \"Marcella Uyehara\", \"Jane Curley\"]\n",
    "\n",
    "years = [2020, 2019, 2016, 2019, 2013, 2014, 2014, 2018, 2016, 2012,\n",
    "2014, 2015, 2018, 2013, 2019, 2017, 2019, 2020, 2015, 2013]\n",
    "\n",
    "print(\"%-30s%-20s\" % (\"Student Name\", \"Email Address\"))\n",
    "\n",
    "for i in range (len(names)):\n",
    "    email = ((names[i][0] + names[i][0:names[i].index(\" \")]).lower()\n",
    "            + str(years[i]) + \"@my.fit.edu\")\n",
    "    print(\"%-30s%-30s\" % (names[i], email))"
   ]
  },
  {
   "cell_type": "markdown",
   "id": "398f851b",
   "metadata": {},
   "source": [
    "## Task 3:"
   ]
  },
  {
   "cell_type": "code",
   "execution_count": 283,
   "id": "6d1ffdd1",
   "metadata": {},
   "outputs": [
    {
     "name": "stdout",
     "output_type": "stream",
     "text": [
      "Quarter 1 [72, 32, 24, 61, 30, 42]\n",
      "Quarter 2 [51, 21, 56, 32, 39, 70]\n",
      "Quarter 3 [75, 54, 62, 49, 28, 54]\n",
      "Quarter 4 [39, 24, 31, 64, 72, 27]\n"
     ]
    }
   ],
   "source": [
    "temperatures = [72, 32, 24, 61, 30, 42, 51, 21, 56, 32, 39, 70, 75, 54, 62, 49, 28, 54,\n",
    "39, 24, 31, 64, 72, 27]\n",
    "\n",
    "divide = len(temperatures)/4\n",
    "\n",
    "div_arr = []\n",
    "pos = 0\n",
    "\n",
    "for i in range (4):\n",
    "    new_arr = []\n",
    "    \n",
    "    for j in range (int(divide)):\n",
    "        new_arr.append(temperatures[pos])\n",
    "        pos += 1\n",
    "    div_arr.append(new_arr)\n",
    "\n",
    "for i in range (4):\n",
    "    print(\"Quarter\", i+1, div_arr[i])"
   ]
  },
  {
   "cell_type": "code",
   "execution_count": null,
   "id": "a4fb8b42",
   "metadata": {},
   "outputs": [],
   "source": []
  }
 ],
 "metadata": {
  "kernelspec": {
   "display_name": "Python 3 (ipykernel)",
   "language": "python",
   "name": "python3"
  },
  "language_info": {
   "codemirror_mode": {
    "name": "ipython",
    "version": 3
   },
   "file_extension": ".py",
   "mimetype": "text/x-python",
   "name": "python",
   "nbconvert_exporter": "python",
   "pygments_lexer": "ipython3",
   "version": "3.10.2"
  }
 },
 "nbformat": 4,
 "nbformat_minor": 5
}
