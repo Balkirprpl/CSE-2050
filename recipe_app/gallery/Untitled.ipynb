{
 "cells": [
  {
   "cell_type": "code",
   "execution_count": 1,
   "id": "38a2e45c",
   "metadata": {},
   "outputs": [],
   "source": [
    "from ezgraphics import *\n",
    "\n",
    "win = GraphicsWindow(750, 750)\n",
    "canvas = win.canvas()\n",
    "\n",
    "pic = GraphicsImage(\"picture1.gif\")\n",
    "canvas.drawImage(0, 0, pic)\n",
    "win.wait()"
   ]
  },
  {
   "cell_type": "code",
   "execution_count": null,
   "id": "72cf57b0",
   "metadata": {},
   "outputs": [],
   "source": []
  }
 ],
 "metadata": {
  "kernelspec": {
   "display_name": "Python 3 (ipykernel)",
   "language": "python",
   "name": "python3"
  },
  "language_info": {
   "codemirror_mode": {
    "name": "ipython",
    "version": 3
   },
   "file_extension": ".py",
   "mimetype": "text/x-python",
   "name": "python",
   "nbconvert_exporter": "python",
   "pygments_lexer": "ipython3",
   "version": "3.10.2"
  }
 },
 "nbformat": 4,
 "nbformat_minor": 5
}
