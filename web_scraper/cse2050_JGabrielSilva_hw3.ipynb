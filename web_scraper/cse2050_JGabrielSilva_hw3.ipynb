{
 "cells": [
  {
   "cell_type": "markdown",
   "id": "2a8f2786",
   "metadata": {},
   "source": [
    "## Task 1"
   ]
  },
  {
   "cell_type": "code",
   "execution_count": 2,
   "id": "03610ab8",
   "metadata": {},
   "outputs": [],
   "source": [
    "import bs4\n",
    "import urllib\n",
    "import requests\n",
    "import datetime\n",
    "import dateparser\n",
    "\n",
    "def is_open(day, opening_time, activity_table):\n",
    "    day_hour = dateparser.parse(day).strftime('%H%M')\n",
    "    day_week = dateparser.parse(day).weekday()\n",
    "    if day_week < 5:\n",
    "        time = opening_time[1].split(' ')\n",
    "        time = time[1].split('-')\n",
    "    elif day_week == 5:\n",
    "        time = opening_time[2].split(' ')\n",
    "        time = time[1].split('-')\n",
    "    elif day_week == 6:\n",
    "        time = opening_time[3].split(' ')\n",
    "        time = time[1].split('-')\n",
    "        time[0] = time[0] + \"pm\"\n",
    "        \n",
    "    start = dateparser.parse(time[0]).strftime('%H%M')\n",
    "    end = dateparser.parse(time[1]).strftime('%H%M')\n",
    "    if int(day_hour) in range(int(start), int(end)):\n",
    "        check_schedule(day_hour, day_week, activity_table, day)\n",
    "    else:\n",
    "        print(\"Clemente Center is not open on\", day, \". The hours are\")\n",
    "        for i in range(1, len(opening_time)):\n",
    "            print(opening_time[i])\n",
    "    return\n",
    "\n",
    "def check_schedule(hour, day, table, day_full):\n",
    "    count = 0\n",
    "    for row in table:\n",
    "        if day < 5 and len(row) > 1 and row[4] == day:\n",
    "            time = row[0].split('-')\n",
    "            if \"am\" in time[1]:\n",
    "                time[0] = time[0] + \"am\"\n",
    "            else:\n",
    "                time[0] = time[0] + \"pm\"\n",
    "            start = dateparser.parse(time[0]).strftime('%H%M')\n",
    "            end = dateparser.parse(time[1]).strftime('%H%M')\n",
    "            if int(hour) in range(int(start), int(end)):\n",
    "                start_actv = dateparser.parse(time[0]).strftime('%I:%M%p')\n",
    "                end_actv = dateparser.parse(time[1]).strftime('%I:%M%p')\n",
    "                print(row[1], \"is held in\", row[3], \"from\", day_full.split(\" \")[0],\n",
    "                      start_actv, \"-\", day_full.split(\" \")[0], end_actv)\n",
    "                return\n",
    "    print(\"Clemente Center is available on\", day_full)\n",
    "    \n",
    "    \n",
    "def get_opening_hours(url):\n",
    "    hours_table = []\n",
    "    response = urllib.request.urlopen(url)\n",
    "    doc = bs4.BeautifulSoup(response)\n",
    "    for link in doc.find_all(\"p\"):\n",
    "        if \"Fall 2022\" in str(link):\n",
    "            collumn = [ele.text.strip() for ele in link]\n",
    "            collumn.remove(\"\")\n",
    "            collumn.remove(\"\")\n",
    "            collumn.remove(\"\")\n",
    "            collumn.remove(\"\")\n",
    "            return collumn\n",
    "    \n",
    "def get_schedule_table(url):\n",
    "    data_table = []\n",
    "    response = urllib.request.urlopen(url)\n",
    "    doc = bs4.BeautifulSoup(response)\n",
    "    count = 0\n",
    "    for link in doc.find_all('tr'):\n",
    "        collumn = link.find_all(\"td\")\n",
    "        collumn = [ele.text.strip() for ele in collumn]\n",
    "        if not collumn:\n",
    "              count += 1\n",
    "        collumn.append(count - 1)\n",
    "        data_table.append(collumn)\n",
    "    #print_table(data_table)\n",
    "    return data_table\n",
    "\n",
    "def print_table(table):\n",
    "    counter = 0\n",
    "    for row in table:\n",
    "        print(row)"
   ]
  },
  {
   "cell_type": "code",
   "execution_count": null,
   "id": "625509bf",
   "metadata": {
    "scrolled": true
   },
   "outputs": [
    {
     "name": "stderr",
     "output_type": "stream",
     "text": [
      "C:\\Users\\joaog\\AppData\\Local\\Programs\\Python\\Python310\\lib\\site-packages\\dateparser\\date_parser.py:35: PytzUsageWarning: The localize method is no longer necessary, as this time zone supports the fold attribute (PEP 495). For more details on migrating to a PEP 495-compliant implementation, see https://pytz-deprecation-shim.readthedocs.io/en/latest/migration.html\n",
      "  date_obj = stz.localize(date_obj)\n"
     ]
    },
    {
     "name": "stdout",
     "output_type": "stream",
     "text": [
      "Clemente Center is not open on 9/20/2022 12:00am . The hours are\n",
      "Monday-Friday: 6am-9pm\n",
      "Saturday: 9am-8pm\n",
      "Sunday: 12-6pm\n",
      "\n",
      "Yoga is held in Grp Fitness Rm from 9/21/2022 05:00PM - 9/21/2022 06:00PM\n",
      "\n",
      "Clemente Center is available on 9/23/2022 5:30pm\n",
      "\n",
      "Zumba®/MixxedFit® is held in Grp Fitness Rm from 9/22/2022 01:05PM - 9/22/2022 02:00PM\n",
      "\n",
      "Clemente Center is available on 10/1/2022 1:30pm\n",
      "\n",
      "Clemente Center is not open on 10/2/2022 11:30pm . The hours are\n",
      "Monday-Friday: 6am-9pm\n",
      "Saturday: 9am-8pm\n",
      "Sunday: 12-6pm\n",
      "\n"
     ]
    }
   ],
   "source": [
    "URL = \"https://www.fit.edu/clemente-center/fitness-schedule/\"\n",
    "table = get_schedule_table(URL)\n",
    "hours = get_opening_hours(URL)\n",
    "is_open(\"9/20/2022 12:00am\", hours, table)\n",
    "print()\n",
    "is_open(\"9/21/2022 5:30pm\", hours, table)\n",
    "print()\n",
    "is_open(\"9/23/2022 5:30pm\", hours, table)\n",
    "print()\n",
    "is_open(\"9/22/2022 1:30pm\", hours, table)\n",
    "print()\n",
    "is_open(\"10/1/2022 1:30pm\", hours, table)\n",
    "print()\n",
    "is_open(\"10/2/2022 11:30pm\", hours, table)\n",
    "print()\n",
    "\n",
    "user_in = input()\n",
    "is_open(user_in, x, y)"
   ]
  },
  {
   "cell_type": "code",
   "execution_count": null,
   "id": "23f8bf3d",
   "metadata": {},
   "outputs": [],
   "source": []
  }
 ],
 "metadata": {
  "kernelspec": {
   "display_name": "Python 3 (ipykernel)",
   "language": "python",
   "name": "python3"
  },
  "language_info": {
   "codemirror_mode": {
    "name": "ipython",
    "version": 3
   },
   "file_extension": ".py",
   "mimetype": "text/x-python",
   "name": "python",
   "nbconvert_exporter": "python",
   "pygments_lexer": "ipython3",
   "version": "3.10.2"
  }
 },
 "nbformat": 4,
 "nbformat_minor": 5
}
