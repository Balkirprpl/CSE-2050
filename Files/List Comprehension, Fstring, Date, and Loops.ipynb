{
 "cells": [
  {
   "cell_type": "code",
   "execution_count": 24,
   "id": "dd225f02",
   "metadata": {},
   "outputs": [
    {
     "name": "stdout",
     "output_type": "stream",
     "text": [
      "single double\n"
     ]
    }
   ],
   "source": [
    "print('single',\"double\")"
   ]
  },
  {
   "cell_type": "code",
   "execution_count": 25,
   "id": "202158c2",
   "metadata": {},
   "outputs": [],
   "source": [
    "dash = \"-\" * 50"
   ]
  },
  {
   "cell_type": "code",
   "execution_count": 26,
   "id": "399f4955",
   "metadata": {},
   "outputs": [],
   "source": [
    "FName = \"gabe\"\n",
    "LName = \"silva\""
   ]
  },
  {
   "cell_type": "code",
   "execution_count": 27,
   "id": "a76b3af8",
   "metadata": {},
   "outputs": [
    {
     "name": "stdout",
     "output_type": "stream",
     "text": [
      "--------------------------------------------------\n"
     ]
    }
   ],
   "source": [
    "print (dash)"
   ]
  },
  {
   "cell_type": "code",
   "execution_count": 28,
   "id": "2fc21441",
   "metadata": {},
   "outputs": [
    {
     "name": "stdout",
     "output_type": "stream",
     "text": [
      " 3,568,888,600.000  \n"
     ]
    }
   ],
   "source": [
    "print(\"{:^20,.3f}\".format(3568888600))"
   ]
  },
  {
   "cell_type": "markdown",
   "id": "a1ee0087",
   "metadata": {},
   "source": [
    "### F-string"
   ]
  },
  {
   "cell_type": "code",
   "execution_count": 29,
   "id": "eaaef684",
   "metadata": {},
   "outputs": [
    {
     "name": "stdout",
     "output_type": "stream",
     "text": [
      "                gabe silva               \n"
     ]
    }
   ],
   "source": [
    "print(f\"{FName:>20} {LName:<20}\")"
   ]
  },
  {
   "cell_type": "markdown",
   "id": "699a676c",
   "metadata": {},
   "source": [
    "### Date"
   ]
  },
  {
   "cell_type": "code",
   "execution_count": 2,
   "id": "521fd336",
   "metadata": {},
   "outputs": [
    {
     "name": "stdout",
     "output_type": "stream",
     "text": [
      "2022-09-15 00:00:00\n"
     ]
    }
   ],
   "source": [
    "#!pip install dateparser\n",
    "import dateparser\n",
    "print(dateparser.parse('thursday'))"
   ]
  },
  {
   "cell_type": "code",
   "execution_count": 3,
   "id": "351c5a2c",
   "metadata": {},
   "outputs": [
    {
     "data": {
      "text/plain": [
       "datetime.datetime(2022, 8, 31, 0, 0)"
      ]
     },
     "execution_count": 3,
     "metadata": {},
     "output_type": "execute_result"
    }
   ],
   "source": [
    "from dateparser import parse as parse_date\n",
    "parse_date(\"08/31/2022\")"
   ]
  },
  {
   "cell_type": "code",
   "execution_count": 4,
   "id": "2601799a",
   "metadata": {},
   "outputs": [],
   "source": [
    "from datetime import datetime"
   ]
  },
  {
   "cell_type": "code",
   "execution_count": 5,
   "id": "f8ce78fc",
   "metadata": {},
   "outputs": [
    {
     "name": "stdout",
     "output_type": "stream",
     "text": [
      "2022-09-16 00:48:30.509600\n"
     ]
    }
   ],
   "source": [
    "today = datetime.now()\n",
    "print(today)"
   ]
  },
  {
   "cell_type": "code",
   "execution_count": 6,
   "id": "b65e24fe",
   "metadata": {},
   "outputs": [],
   "source": [
    "FULL_DATE_FORMAT = \"%A, %b, %d, %Y\""
   ]
  },
  {
   "cell_type": "code",
   "execution_count": 7,
   "id": "53f0b61f",
   "metadata": {},
   "outputs": [
    {
     "name": "stdout",
     "output_type": "stream",
     "text": [
      "Friday, Sep, 16, 2022\n"
     ]
    }
   ],
   "source": [
    "print(today.strftime(FULL_DATE_FORMAT))"
   ]
  },
  {
   "cell_type": "code",
   "execution_count": 11,
   "id": "9a13b917",
   "metadata": {},
   "outputs": [
    {
     "name": "stdout",
     "output_type": "stream",
     "text": [
      "48\n"
     ]
    }
   ],
   "source": [
    "print(today.strftime(\"%M\"))"
   ]
  },
  {
   "cell_type": "markdown",
   "id": "958a39d2",
   "metadata": {},
   "source": [
    "## Section 2\n",
    "### Lists"
   ]
  },
  {
   "cell_type": "code",
   "execution_count": 37,
   "id": "7c29dc97",
   "metadata": {},
   "outputs": [],
   "source": [
    "my_list = [10]\n",
    "my_list[0] = 2"
   ]
  },
  {
   "cell_type": "code",
   "execution_count": 38,
   "id": "ee999c4f",
   "metadata": {},
   "outputs": [],
   "source": [
    "# my_list[10] out of bounds"
   ]
  },
  {
   "cell_type": "markdown",
   "id": "f50ff0a7",
   "metadata": {},
   "source": [
    "## Loops\n",
    "### for-each loop"
   ]
  },
  {
   "cell_type": "code",
   "execution_count": 39,
   "id": "6001b52f",
   "metadata": {},
   "outputs": [
    {
     "name": "stdout",
     "output_type": "stream",
     "text": [
      "cody\n",
      "gabe\n",
      "zea\n",
      "liam\n",
      "andrew\n"
     ]
    }
   ],
   "source": [
    "names = [\"cody\", \"gabe\", 'zea', 'liam', 'andrew']\n",
    "for name in names:\n",
    "    print(name)"
   ]
  },
  {
   "cell_type": "code",
   "execution_count": 40,
   "id": "287dfa34",
   "metadata": {},
   "outputs": [
    {
     "name": "stdout",
     "output_type": "stream",
     "text": [
      "2022-08-31 00:00:00\n",
      "2022-09-01 00:00:00\n",
      "2022-09-02 00:00:00\n"
     ]
    }
   ],
   "source": [
    "dates_str_list = ['08/31/2022', \"09.01.2022\", \"9/2/2022\"]\n",
    "for date_str in dates_str_list:\n",
    "    print(parse_date(date_str, date_formats = [\"%x\", \"%x\", '%x']))"
   ]
  },
  {
   "cell_type": "code",
   "execution_count": 63,
   "id": "a75073bb",
   "metadata": {},
   "outputs": [],
   "source": [
    "dates_tuple = tuple(dates_str_list)"
   ]
  },
  {
   "cell_type": "code",
   "execution_count": 64,
   "id": "bfb77eaf",
   "metadata": {},
   "outputs": [
    {
     "name": "stdout",
     "output_type": "stream",
     "text": [
      "('08/31/2022', '09.01.2022', '9/2/2022')\n"
     ]
    }
   ],
   "source": [
    "print(dates_tuple)"
   ]
  },
  {
   "cell_type": "code",
   "execution_count": 65,
   "id": "ea97c92f",
   "metadata": {},
   "outputs": [],
   "source": [
    "# dates_tuple[1] = \"   \" not mutable"
   ]
  },
  {
   "cell_type": "code",
   "execution_count": 66,
   "id": "d99e56d2",
   "metadata": {},
   "outputs": [
    {
     "data": {
      "text/plain": [
       "tuple"
      ]
     },
     "execution_count": 66,
     "metadata": {},
     "output_type": "execute_result"
    }
   ],
   "source": [
    "type(dates_tuple)"
   ]
  },
  {
   "cell_type": "code",
   "execution_count": 67,
   "id": "a7ae95c7",
   "metadata": {},
   "outputs": [
    {
     "data": {
      "text/plain": [
       "'09.01.2022'"
      ]
     },
     "execution_count": 67,
     "metadata": {},
     "output_type": "execute_result"
    }
   ],
   "source": [
    "dates_tuple[1]"
   ]
  },
  {
   "cell_type": "code",
   "execution_count": 68,
   "id": "81db209e",
   "metadata": {},
   "outputs": [
    {
     "name": "stdout",
     "output_type": "stream",
     "text": [
      "08/31/2022\n",
      "09.01.2022\n",
      "9/2/2022\n"
     ]
    }
   ],
   "source": [
    "for str in dates_tuple:\n",
    "    print(str)"
   ]
  },
  {
   "cell_type": "markdown",
   "id": "8bf3c8cc",
   "metadata": {},
   "source": [
    "### List Comprehension"
   ]
  },
  {
   "cell_type": "code",
   "execution_count": 70,
   "id": "42412bf6",
   "metadata": {},
   "outputs": [],
   "source": [
    "# [ Expression for VARIABLE in SEQUENCE ]\n",
    "from random import randint"
   ]
  },
  {
   "cell_type": "markdown",
   "id": "74606825",
   "metadata": {},
   "source": [
    "#### Example 2"
   ]
  },
  {
   "cell_type": "code",
   "execution_count": 71,
   "id": "8ff34e1c",
   "metadata": {},
   "outputs": [],
   "source": [
    "#rand_ints = [for num in ]"
   ]
  },
  {
   "cell_type": "markdown",
   "id": "da8da66d",
   "metadata": {},
   "source": [
    "### Example 1"
   ]
  },
  {
   "cell_type": "code",
   "execution_count": 73,
   "id": "98234878",
   "metadata": {},
   "outputs": [
    {
     "name": "stdout",
     "output_type": "stream",
     "text": [
      "1\n",
      "2\n",
      "3\n",
      "15\n",
      "556\n",
      "11\n",
      "3,000\n"
     ]
    }
   ],
   "source": [
    "data = ['1', '2', '3', '15', '556', '11', '3,000']\n",
    "data_ints = []\n",
    "for i in data:\n",
    "    data_ints.append(int(i.replace(',', '')))\n",
    "    print(i)"
   ]
  },
  {
   "cell_type": "code",
   "execution_count": null,
   "id": "19507ba4",
   "metadata": {},
   "outputs": [],
   "source": [
    "t"
   ]
  }
 ],
 "metadata": {
  "kernelspec": {
   "display_name": "Python 3 (ipykernel)",
   "language": "python",
   "name": "python3"
  },
  "language_info": {
   "codemirror_mode": {
    "name": "ipython",
    "version": 3
   },
   "file_extension": ".py",
   "mimetype": "text/x-python",
   "name": "python",
   "nbconvert_exporter": "python",
   "pygments_lexer": "ipython3",
   "version": "3.10.2"
  }
 },
 "nbformat": 4,
 "nbformat_minor": 5
}
