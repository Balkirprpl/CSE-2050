{
 "cells": [
  {
   "cell_type": "markdown",
   "id": "60b6b7f8",
   "metadata": {},
   "source": [
    "## Function Definition"
   ]
  },
  {
   "cell_type": "code",
   "execution_count": 2,
   "id": "efa9a882",
   "metadata": {},
   "outputs": [],
   "source": [
    "def get_html(url):\n",
    "    # variables\n",
    "    #function calls\n",
    "    return \"someting\""
   ]
  },
  {
   "cell_type": "markdown",
   "id": "a5ece3dc",
   "metadata": {},
   "source": [
    "#### *data crawling "
   ]
  },
  {
   "cell_type": "code",
   "execution_count": 3,
   "id": "e40b87e5",
   "metadata": {},
   "outputs": [
    {
     "name": "stdout",
     "output_type": "stream",
     "text": [
      "should have worked\n"
     ]
    }
   ],
   "source": [
    "import requests \n",
    "try:\n",
    "   proxies = {\n",
    "   \"http\": \"http://10.10.10.10:8000\",\n",
    "   \"https\": \"http://10.10.10.10:8000\", \n",
    "   } \n",
    "   r = requests.get(\"http://toscrape.com\", proxies=proxies)\n",
    "except:\n",
    "    print(\"should have worked\")"
   ]
  },
  {
   "cell_type": "code",
   "execution_count": null,
   "id": "9cf51188",
   "metadata": {},
   "outputs": [],
   "source": [
    "import urllib.request\n",
    "def main() :\n",
    "# Read the URL and search targets.\n",
    "    address = input(\"Enter a web page URL: \")\n",
    "    response = urllib.request.urlopen(address)\n",
    "    text = response.read().decode() # returns bytes so decode it. This text may also be saved to a file\n",
    "    i = text.find(\"href\") # Extract the positions of links from the page\n",
    "    while i != -1 :\n",
    "        start = text.find(\"\\\"\", i)\n",
    "        end = text.find(\"\\\"\", start + 1)\n",
    "        print(text[start + 1 : end]) # example href=\"http://www.fit.edu\" yields \"http://www.fit.edu\"\n",
    "        i = text.find(\"href\", end + 1)\n",
    "    response.close()    \n",
    "main()  "
   ]
  },
  {
   "cell_type": "code",
   "execution_count": null,
   "id": "104a26db",
   "metadata": {},
   "outputs": [],
   "source": []
  }
 ],
 "metadata": {
  "kernelspec": {
   "display_name": "Python 3 (ipykernel)",
   "language": "python",
   "name": "python3"
  },
  "language_info": {
   "codemirror_mode": {
    "name": "ipython",
    "version": 3
   },
   "file_extension": ".py",
   "mimetype": "text/x-python",
   "name": "python",
   "nbconvert_exporter": "python",
   "pygments_lexer": "ipython3",
   "version": "3.10.2"
  }
 },
 "nbformat": 4,
 "nbformat_minor": 5
}
