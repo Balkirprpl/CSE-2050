{
 "cells": [
  {
   "cell_type": "markdown",
   "id": "3d0d3835",
   "metadata": {},
   "source": [
    "## Webscrapping with LXML"
   ]
  },
  {
   "cell_type": "code",
   "execution_count": 2,
   "id": "39811ec6",
   "metadata": {},
   "outputs": [],
   "source": [
    "from lxml import html\n",
    "import requests\n",
    "\n",
    "def get_html(url):\n",
    "    response = requests.get(url)  # get page data from server, block redirects\n",
    "    source_code = response.content # get string of source code from response\n",
    "    return source_code\n",
    "\n",
    "def scrape_data(url, table_index):\n",
    "    return get_data_table(get_html(url), table_index)\n",
    "\n",
    "def get_data_table(source_code, table_index):\n",
    "    data_table = []\n",
    "    html_elem = html.document_fromstring(source_code)  # make HTML element object\n",
    "    tables = html_elem.cssselect(\"table\")\n",
    "    # in a simplistic way, make sure the website didn't change since the last time we checked\n",
    "    # make sure we can access \"table 4\" (the fifth table on the page)\n",
    "    if len(tables) >= table_index:\n",
    "        table4 = tables[table_index]\n",
    "        # a tr is a HTML table row; selecting tr selects all rows\n",
    "        trs = table4.cssselect('tr')\n",
    "        # go through each row in the table\n",
    "        for tr in trs:\n",
    "            output_table_row = []\n",
    "            tds = tr.cssselect('td')  # a td is a HTML table cell; selecting td selects a group of cells\n",
    "            # go through each cell and grab the text content\n",
    "            for td in tds:\n",
    "                cell_text = td.text_content().strip() # always practice to strip away extra whitespace\n",
    "                output_table_row.append(cell_text)\n",
    "                data_table.append(output_table_row)\n",
    "    return data_table\n",
    "\n",
    "def printTable(table : list):\n",
    "    for row in table:\n",
    "        for column in row:\n",
    "            print(column)"
   ]
  },
  {
   "cell_type": "code",
   "execution_count": 3,
   "id": "2cc9034b",
   "metadata": {},
   "outputs": [
    {
     "name": "stdout",
     "output_type": "stream",
     "text": [
      "Verifiable records (digital or paper)\n",
      "Vaccination certificate with QR code1, digital pass via Smartphone application with QR code1 (e.g., United Kingdom National Health Service COVID Pass, European Union Digital COVID Certificate)\n",
      "Verifiable records (digital or paper)\n",
      "Vaccination certificate with QR code1, digital pass via Smartphone application with QR code1 (e.g., United Kingdom National Health Service COVID Pass, European Union Digital COVID Certificate)\n",
      "Non-verifiable paper records\n",
      "Printout of COVID-19 vaccination record or a COVID-19 vaccination certificate issued at national or subnational level or by an authorized vaccine provider (e.g., the CDC vaccination card)\n",
      "Non-verifiable paper records\n",
      "Printout of COVID-19 vaccination record or a COVID-19 vaccination certificate issued at national or subnational level or by an authorized vaccine provider (e.g., the CDC vaccination card)\n",
      "Non-verifiable digital records\n",
      "Digital photos of vaccination card or record, downloaded vaccine record or vaccination certificate from official source (e.g., public health agency, government agency, or other authorized vaccine provider), or a mobile phone application without QR code1\n",
      "Non-verifiable digital records\n",
      "Digital photos of vaccination card or record, downloaded vaccine record or vaccination certificate from official source (e.g., public health agency, government agency, or other authorized vaccine provider), or a mobile phone application without QR code1\n"
     ]
    }
   ],
   "source": [
    "def main():\n",
    "    url = \"https://www.cdc.gov/coronavirus/2019-ncov/travelers/proof-of-vaccination.html\"\n",
    "    data_table = scrape_data(url, 1)\n",
    "    printTable(data_table)\n",
    "\n",
    "main()\n",
    "\n",
    " \n"
   ]
  },
  {
   "cell_type": "code",
   "execution_count": null,
   "id": "f8283f68",
   "metadata": {},
   "outputs": [],
   "source": []
  }
 ],
 "metadata": {
  "kernelspec": {
   "display_name": "Python 3 (ipykernel)",
   "language": "python",
   "name": "python3"
  },
  "language_info": {
   "codemirror_mode": {
    "name": "ipython",
    "version": 3
   },
   "file_extension": ".py",
   "mimetype": "text/x-python",
   "name": "python",
   "nbconvert_exporter": "python",
   "pygments_lexer": "ipython3",
   "version": "3.10.2"
  }
 },
 "nbformat": 4,
 "nbformat_minor": 5
}
